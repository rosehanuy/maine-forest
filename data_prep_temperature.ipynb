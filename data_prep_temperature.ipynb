{
 "cells": [
  {
   "cell_type": "code",
   "execution_count": 1,
   "id": "6d7fa3f0-114d-45ad-86fb-cbfde6f4599d",
   "metadata": {},
   "outputs": [],
   "source": [
    "import pandas as pd\n",
    "import os\n",
    "import pathlib\n",
    "import matplotlib.pyplot as plt\n",
    "import numpy as np\n",
    "import glob"
   ]
  },
  {
   "cell_type": "markdown",
   "id": "20bfa691-87d4-4b66-bc28-c31290b2e665",
   "metadata": {},
   "source": [
    "### Data Preparation: Historical County Level Temperature Data"
   ]
  },
  {
   "cell_type": "code",
   "execution_count": 23,
   "id": "240306fa-5e0b-4089-a8fe-b9d418524b52",
   "metadata": {},
   "outputs": [],
   "source": [
    "nb_path = pathlib.Path().resolve()\n",
    "filepath = nb_path / 'temps'        # set file path"
   ]
  },
  {
   "cell_type": "markdown",
   "id": "13d17f27-e1c6-44e5-aa79-22e4d24be5a0",
   "metadata": {},
   "source": [
    "#### Concatenate and format annual mean temperature files from each county"
   ]
  },
  {
   "cell_type": "code",
   "execution_count": 25,
   "id": "b9177492-0ccd-48a8-bef8-ba1184c8c879",
   "metadata": {},
   "outputs": [],
   "source": [
    "# concatenate csv files into one file and export to csv\n",
    "all_filenames = [i for i in glob.glob(os.path.join(filepath,'*.csv'))]\n",
    "combined_csv = pd.concat([pd.read_csv(f) for f in all_filenames ])\n",
    "combined_csv.to_csv( os.path.join(filepath,\"all_county_temps.csv\"), index=False, encoding='utf-8-sig')"
   ]
  },
  {
   "cell_type": "code",
   "execution_count": 68,
   "id": "ab6569af-2560-4a54-8393-89d367246d80",
   "metadata": {},
   "outputs": [],
   "source": [
    "# read in and format concatenated csv\n",
    "temps = pd.read_csv(os.path.join(filepath,'all_county_temps.csv'))\n",
    "\n",
    "temps['Date'] = temps['Date'].astype(str).str[:4]           # reformat dates\n",
    "temps['Value'] = np.around(temps['Value'] - 32 * (5/9),2)   # convert fahrenheit to celsius\n",
    "temps['County'] = temps['County'].str.split(' ').str[0]    # remove 'county' from county name column\n",
    "\n",
    "# temps.to_csv(os.path.join(filepath,'all_county_temps_formatted.csv'))   # read formatted temperature file to csv"
   ]
  },
  {
   "cell_type": "code",
   "execution_count": 72,
   "id": "8290d820-9941-4634-8e88-d3845cc423eb",
   "metadata": {},
   "outputs": [
    {
     "data": {
      "text/html": [
       "<div>\n",
       "<style scoped>\n",
       "    .dataframe tbody tr th:only-of-type {\n",
       "        vertical-align: middle;\n",
       "    }\n",
       "\n",
       "    .dataframe tbody tr th {\n",
       "        vertical-align: top;\n",
       "    }\n",
       "\n",
       "    .dataframe thead th {\n",
       "        text-align: right;\n",
       "    }\n",
       "</style>\n",
       "<table border=\"1\" class=\"dataframe\">\n",
       "  <thead>\n",
       "    <tr style=\"text-align: right;\">\n",
       "      <th></th>\n",
       "      <th>County</th>\n",
       "      <th>Date</th>\n",
       "      <th>Value</th>\n",
       "    </tr>\n",
       "  </thead>\n",
       "  <tbody>\n",
       "    <tr>\n",
       "      <th>0</th>\n",
       "      <td>Androscoggin</td>\n",
       "      <td>1970</td>\n",
       "      <td>25.62</td>\n",
       "    </tr>\n",
       "    <tr>\n",
       "      <th>1</th>\n",
       "      <td>Androscoggin</td>\n",
       "      <td>1971</td>\n",
       "      <td>25.52</td>\n",
       "    </tr>\n",
       "    <tr>\n",
       "      <th>2</th>\n",
       "      <td>Androscoggin</td>\n",
       "      <td>1972</td>\n",
       "      <td>24.12</td>\n",
       "    </tr>\n",
       "    <tr>\n",
       "      <th>3</th>\n",
       "      <td>Androscoggin</td>\n",
       "      <td>1973</td>\n",
       "      <td>27.42</td>\n",
       "    </tr>\n",
       "    <tr>\n",
       "      <th>4</th>\n",
       "      <td>Androscoggin</td>\n",
       "      <td>1974</td>\n",
       "      <td>25.32</td>\n",
       "    </tr>\n",
       "  </tbody>\n",
       "</table>\n",
       "</div>"
      ],
      "text/plain": [
       "         County  Date  Value\n",
       "0  Androscoggin  1970  25.62\n",
       "1  Androscoggin  1971  25.52\n",
       "2  Androscoggin  1972  24.12\n",
       "3  Androscoggin  1973  27.42\n",
       "4  Androscoggin  1974  25.32"
      ]
     },
     "execution_count": 72,
     "metadata": {},
     "output_type": "execute_result"
    }
   ],
   "source": [
    "temps.head()"
   ]
  },
  {
   "cell_type": "markdown",
   "id": "2ec39c04-9f9b-458b-b909-64b92ef277de",
   "metadata": {},
   "source": [
    "#### Find 50-year mean temperature for each county"
   ]
  },
  {
   "cell_type": "code",
   "execution_count": 73,
   "id": "2cce2c94-cc19-4556-8a54-325020befd70",
   "metadata": {},
   "outputs": [],
   "source": [
    "grouped = temps.groupby('County')                 # group by county\n",
    "means = pd.DataFrame(grouped['Value'].mean())    # create new dataframe with mean temp for each county\n",
    "\n",
    "# means.to_csv(os.path.join(filepath,'50_yr_mean_temps.csv'))   # read mean temp file to csv"
   ]
  },
  {
   "cell_type": "code",
   "execution_count": 88,
   "id": "e2fff79d-d90f-4b03-bb05-9f75af4348c9",
   "metadata": {},
   "outputs": [
    {
     "data": {
      "text/html": [
       "<div>\n",
       "<style scoped>\n",
       "    .dataframe tbody tr th:only-of-type {\n",
       "        vertical-align: middle;\n",
       "    }\n",
       "\n",
       "    .dataframe tbody tr th {\n",
       "        vertical-align: top;\n",
       "    }\n",
       "\n",
       "    .dataframe thead th {\n",
       "        text-align: right;\n",
       "    }\n",
       "</style>\n",
       "<table border=\"1\" class=\"dataframe\">\n",
       "  <thead>\n",
       "    <tr style=\"text-align: right;\">\n",
       "      <th></th>\n",
       "      <th>Value</th>\n",
       "    </tr>\n",
       "    <tr>\n",
       "      <th>County</th>\n",
       "      <th></th>\n",
       "    </tr>\n",
       "  </thead>\n",
       "  <tbody>\n",
       "    <tr>\n",
       "      <th>Androscoggin</th>\n",
       "      <td>26.683462</td>\n",
       "    </tr>\n",
       "    <tr>\n",
       "      <th>Aroostook</th>\n",
       "      <td>21.066154</td>\n",
       "    </tr>\n",
       "    <tr>\n",
       "      <th>Cumberland</th>\n",
       "      <td>27.402692</td>\n",
       "    </tr>\n",
       "    <tr>\n",
       "      <th>Franklin</th>\n",
       "      <td>21.864231</td>\n",
       "    </tr>\n",
       "    <tr>\n",
       "      <th>Hancock</th>\n",
       "      <td>26.439231</td>\n",
       "    </tr>\n",
       "  </tbody>\n",
       "</table>\n",
       "</div>"
      ],
      "text/plain": [
       "                  Value\n",
       "County                 \n",
       "Androscoggin  26.683462\n",
       "Aroostook     21.066154\n",
       "Cumberland    27.402692\n",
       "Franklin      21.864231\n",
       "Hancock       26.439231"
      ]
     },
     "execution_count": 88,
     "metadata": {},
     "output_type": "execute_result"
    }
   ],
   "source": [
    "means.head()"
   ]
  },
  {
   "cell_type": "markdown",
   "id": "4736c10b-bfc5-4910-a165-b258cb9f2a44",
   "metadata": {},
   "source": [
    "#### Join 50-year mean temperature file with 2021 forest cover data"
   ]
  },
  {
   "cell_type": "code",
   "execution_count": 95,
   "id": "def4b907-eb23-46b0-b0ad-2d7890547785",
   "metadata": {},
   "outputs": [],
   "source": [
    "# read in forest cover csv\n",
    "\n",
    "forest_2021 = pd.read_csv(os.path.join(nb_path / 'forest_cover','2021_forestcover_formatted.csv'))"
   ]
  },
  {
   "cell_type": "code",
   "execution_count": 96,
   "id": "8e348303-f824-4c5d-8040-ea513d18008d",
   "metadata": {},
   "outputs": [],
   "source": [
    "forest_2021['COUNTY'] = forest_2021['COUNTY'].str.strip()    # reformat county name\n",
    "forest_2021.set_index('COUNTY',inplace=True)    # set county column to index\n",
    "\n",
    "merged = forest_2021.merge(means, left_index = True, right_index = True)     # merge mean temps with forest cover data\n",
    "merged.rename(columns={'Value': '50_yr_mean_temp'},inplace=True)   # rename values column to '50_yr_mean_temp'\n",
    "\n",
    "# merged.to_csv(os.path.join(filepath,'2021_forest_cover_w_50yr_mean_temps.csv'))   # read merged df to csv"
   ]
  }
 ],
 "metadata": {
  "kernelspec": {
   "display_name": "Python 3 (ipykernel)",
   "language": "python",
   "name": "python3"
  },
  "language_info": {
   "codemirror_mode": {
    "name": "ipython",
    "version": 3
   },
   "file_extension": ".py",
   "mimetype": "text/x-python",
   "name": "python",
   "nbconvert_exporter": "python",
   "pygments_lexer": "ipython3",
   "version": "3.9.13"
  }
 },
 "nbformat": 4,
 "nbformat_minor": 5
}

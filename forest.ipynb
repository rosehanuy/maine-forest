{
 "cells": [
  {
   "cell_type": "code",
   "execution_count": 1,
   "id": "ab943f71-f5de-4577-bbf3-6cd16172618a",
   "metadata": {},
   "outputs": [],
   "source": [
    "import pandas as pd\n",
    "import os\n",
    "import pathlib\n",
    "import geopandas as gpd\n",
    "import matplotlib.pyplot as plt\n",
    "import numpy as np"
   ]
  },
  {
   "cell_type": "markdown",
   "id": "c90c784c-37dd-4b4a-8a71-b11a1ed216c5",
   "metadata": {},
   "source": [
    "#### Data Preparation: Forest Cover Data\n",
    "##### Convert forest acerage to percentage of county forest cover\n",
    "##### Join 1995 and 2021 forest cover percentage data to Maine county shapefiles"
   ]
  },
  {
   "cell_type": "code",
   "execution_count": 40,
   "id": "bda4c66b-d114-4201-9bb9-51d5f11d0f74",
   "metadata": {},
   "outputs": [],
   "source": [
    "nb_path = pathlib.Path().resolve()\n",
    "data_path = nb_path / 'data' / 'forest_cover'"
   ]
  },
  {
   "cell_type": "code",
   "execution_count": 41,
   "id": "6d7d602d-687b-40c3-953a-100d6d250eb4",
   "metadata": {},
   "outputs": [
    {
     "data": {
      "text/plain": [
       "WindowsPath('C:/Users/roseh/Desktop/785/forest_comp/data/forest_cover')"
      ]
     },
     "execution_count": 41,
     "metadata": {},
     "output_type": "execute_result"
    }
   ],
   "source": [
    "data_path"
   ]
  },
  {
   "cell_type": "code",
   "execution_count": 31,
   "id": "06e3f485-2e44-484b-b530-1aff903b3fa5",
   "metadata": {},
   "outputs": [],
   "source": [
    "def format_forest_cover_df(file, year):\n",
    "    \"\"\"Convert species acreage to percent of total country acerage and read to csv file\"\"\"\n",
    "    \n",
    "    df = pd.read_csv(file, na_values= '-', index_col = 'County code and name')  # read in file, replace '-' with NaN, set county name as index\n",
    "    df = df.replace(',','', regex=True).astype('float')   # remove commas and convert all to float\n",
    "    df.drop(df.tail(1).index,inplace=True)   # drop empty last row\n",
    "    df.drop(df.head(1).index,inplace=True)   # drop unneeded first row\n",
    "    \n",
    "    cols = [i for i in df.columns[1:]]            # define list of column names, excluding first column\n",
    "    \n",
    "    df[cols] = df[cols].div(df['Total'], axis=0).multiply(100)    # convert species acerage to percent of total acreage\n",
    "    df['COUNTY'] = df.index.str[8:]     # add column with just county name\n",
    "    df.fillna(0,inplace=True)  # replace all NaN with 0\n",
    "    \n",
    "    filepath = 'C:/Users/roseh/Desktop/785/forest_comp/data/forest_cover'\n",
    "    df.to_csv(os.path.join(filepath, f'{year}_forest_cover_percentage.csv'))"
   ]
  },
  {
   "cell_type": "code",
   "execution_count": 33,
   "id": "740263fa-2e5a-4133-98c8-49133f7df3c3",
   "metadata": {},
   "outputs": [],
   "source": [
    "# read in 1995 forest cover dataset and apply function\n",
    "\n",
    "file = os.path.join(data_path, '1995_forest_cover.csv')\n",
    "format_forest_cover_df(file, '1995')"
   ]
  },
  {
   "cell_type": "code",
   "execution_count": 35,
   "id": "84c9543b-bdba-44c3-b897-97d638e6388c",
   "metadata": {},
   "outputs": [
    {
     "name": "stdout",
     "output_type": "stream",
     "text": [
      "1995_forest_cover.csv\n"
     ]
    }
   ],
   "source": [
    "# read in 2021 forest cover dataset and apply function\n",
    "\n",
    "file = os.path.join(data_path, '2021_forest_cover.csv')\n",
    "format_forest_cover_df(file, '2021')"
   ]
  },
  {
   "cell_type": "code",
   "execution_count": 44,
   "id": "6080c0e6-4e0d-4319-b820-0c627b5565a7",
   "metadata": {},
   "outputs": [],
   "source": [
    "def merge_county_w_forestcover(counties,forest, year):\n",
    "    \"\"\"Merge forest percentage data to Maine county gdf and output to shapefile\"\"\"\n",
    "    \n",
    "    forest['COUNTY'] = forest['COUNTY'].str.strip()   # remove whitespace to match counties df\n",
    "    \n",
    "    df  = counties.merge(forest, on='COUNTY', how='left')    # merge gdf and df on matching COUNTY column\n",
    "    gdf_forestcover = gpd.GeoDataFrame(df)\n",
    "    \n",
    "    data_path = 'C:/Users/roseh/Desktop/785/forest_comp/data/forest_cover'\n",
    "    gdf_forestcover.to_file(os.path.join(data_path,f'forest_cover_{year}.shp'))   # read merged gdf to shapefile"
   ]
  },
  {
   "cell_type": "code",
   "execution_count": 52,
   "id": "98e0a464-e2d3-42d3-955e-b7fdb63e36d0",
   "metadata": {},
   "outputs": [],
   "source": [
    "# read in and format Maine counties shapefile\n",
    "\n",
    "maine_data_path = nb_path / 'data' / 'maine'\n",
    "file = os.path.join(maine_data_path, 'Maine_County_Boundary_Polygons_Dissolved_Feature.shp')\n",
    "counties = gpd.read_file(file)\n",
    "\n",
    "counties.drop(columns=['OBJECTID', 'GlobalID','created_us', \n",
    "                           'created_da', 'last_edite', 'last_edi_1'], inplace=True)      #drop unneeded columns from gdf\n",
    "    \n",
    "counties['COUNTY'] = counties['COUNTY'].str.strip()                                      #remove whitespace from strings in COUNTY column"
   ]
  },
  {
   "cell_type": "code",
   "execution_count": 53,
   "id": "04b6af08-ed54-49d1-b1df-27526c103b85",
   "metadata": {},
   "outputs": [],
   "source": [
    "# read in forest percentage dataframes\n",
    "forest_1995 = pd.read_csv(os.path.join(data_path,'1995_forest_cover_percentage.csv'))\n",
    "forest_2021 = pd.read_csv(os.path.join(data_path,'2021_forest_cover_percentage.csv'))"
   ]
  },
  {
   "cell_type": "code",
   "execution_count": 54,
   "id": "4a301fee-56e6-4fa4-b5e9-6e6dae0f19fc",
   "metadata": {},
   "outputs": [
    {
     "name": "stderr",
     "output_type": "stream",
     "text": [
      "C:\\Users\\roseh\\AppData\\Local\\Temp\\ipykernel_13776\\2457958338.py:13: UserWarning: Column names longer than 10 characters will be truncated when saved to ESRI Shapefile.\n",
      "  gdf_forestcover.to_file(os.path.join(data_path,f'forest_cover_{year}.shp'))   # read merged gdf to shapefile\n"
     ]
    }
   ],
   "source": [
    "# apply merge function to each df\n",
    "merge_county_w_forestcover(counties,forest_1995,'1995')\n",
    "merge_county_w_forestcover(counties,forest_2021,'2021')"
   ]
  }
 ],
 "metadata": {
  "kernelspec": {
   "display_name": "Python 3 (ipykernel)",
   "language": "python",
   "name": "python3"
  },
  "language_info": {
   "codemirror_mode": {
    "name": "ipython",
    "version": 3
   },
   "file_extension": ".py",
   "mimetype": "text/x-python",
   "name": "python",
   "nbconvert_exporter": "python",
   "pygments_lexer": "ipython3",
   "version": "3.9.13"
  }
 },
 "nbformat": 4,
 "nbformat_minor": 5
}

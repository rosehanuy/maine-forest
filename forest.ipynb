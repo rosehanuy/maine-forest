{
 "cells": [
  {
   "cell_type": "code",
   "execution_count": 1,
   "id": "ab943f71-f5de-4577-bbf3-6cd16172618a",
   "metadata": {},
   "outputs": [],
   "source": [
    "import pandas as pd\n",
    "import os\n",
    "import pathlib\n",
    "import geopandas as gpd\n",
    "import matplotlib.pyplot as plt\n",
    "import numpy as np"
   ]
  },
  {
   "cell_type": "markdown",
   "id": "c90c784c-37dd-4b4a-8a71-b11a1ed216c5",
   "metadata": {},
   "source": [
    "#### Data Preparation: Forest Cover Data"
   ]
  },
  {
   "cell_type": "code",
   "execution_count": 2,
   "id": "bda4c66b-d114-4201-9bb9-51d5f11d0f74",
   "metadata": {},
   "outputs": [],
   "source": [
    "nb_path = pathlib.Path().resolve()\n",
    "data_path = nb_path / 'data' / 'forest_cover'"
   ]
  },
  {
   "cell_type": "code",
   "execution_count": 3,
   "id": "6d7d602d-687b-40c3-953a-100d6d250eb4",
   "metadata": {},
   "outputs": [
    {
     "data": {
      "text/plain": [
       "WindowsPath('C:/Users/roseh/Desktop/785/forest_comp/data/forest_cover')"
      ]
     },
     "execution_count": 3,
     "metadata": {},
     "output_type": "execute_result"
    }
   ],
   "source": [
    "data_path"
   ]
  },
  {
   "cell_type": "markdown",
   "id": "891e3492-9f62-4d21-a33c-3517500942c7",
   "metadata": {},
   "source": [
    "##### Convert forest acerage to percentage of county forest cover"
   ]
  },
  {
   "cell_type": "code",
   "execution_count": 31,
   "id": "06e3f485-2e44-484b-b530-1aff903b3fa5",
   "metadata": {},
   "outputs": [],
   "source": [
    "def format_forest_cover_df(file, year):\n",
    "    \"\"\"Convert species acreage to percent of total country acerage and read to csv file\"\"\"\n",
    "    \n",
    "    df = pd.read_csv(file, na_values= '-', index_col = 'County code and name')  # read in file, replace '-' with NaN, set county name as index\n",
    "    df = df.replace(',','', regex=True).astype('float')   # remove commas and convert all to float\n",
    "    df.drop(df.tail(1).index,inplace=True)   # drop empty last row\n",
    "    df.drop(df.head(1).index,inplace=True)   # drop unneeded first row\n",
    "    \n",
    "    cols = [i for i in df.columns[1:]]            # define list of column names, excluding first column\n",
    "    \n",
    "    df[cols] = df[cols].div(df['Total'], axis=0).multiply(100)    # convert species acerage to percent of total acreage\n",
    "    df['COUNTY'] = df.index.str[8:]     # add column with just county name\n",
    "    df.fillna(0,inplace=True)  # replace all NaN with 0\n",
    "    \n",
    "    filepath = 'C:/Users/roseh/Desktop/785/forest_comp/data/forest_cover'\n",
    "    df.to_csv(os.path.join(filepath, f'{year}_forest_cover_percentage.csv'))"
   ]
  },
  {
   "cell_type": "code",
   "execution_count": 33,
   "id": "740263fa-2e5a-4133-98c8-49133f7df3c3",
   "metadata": {},
   "outputs": [],
   "source": [
    "# read in 1995 forest cover dataset and apply function\n",
    "\n",
    "file = os.path.join(data_path, '1995_forest_cover.csv')\n",
    "format_forest_cover_df(file, '1995')"
   ]
  },
  {
   "cell_type": "code",
   "execution_count": 35,
   "id": "84c9543b-bdba-44c3-b897-97d638e6388c",
   "metadata": {},
   "outputs": [
    {
     "name": "stdout",
     "output_type": "stream",
     "text": [
      "1995_forest_cover.csv\n"
     ]
    }
   ],
   "source": [
    "# read in 2021 forest cover dataset and apply function\n",
    "\n",
    "file = os.path.join(data_path, '2021_forest_cover.csv')\n",
    "format_forest_cover_df(file, '2021')"
   ]
  },
  {
   "cell_type": "markdown",
   "id": "7d4e399f-42fe-44c5-9a02-acb84dd69273",
   "metadata": {},
   "source": [
    "##### Join 1995 and 2021 forest cover percentage data to Maine county shapefiles"
   ]
  },
  {
   "cell_type": "code",
   "execution_count": 41,
   "id": "6080c0e6-4e0d-4319-b820-0c627b5565a7",
   "metadata": {},
   "outputs": [],
   "source": [
    "def merge_county_w_forestcover(counties,forest, year):\n",
    "    \"\"\"Merge forest percentage data to Maine county gdf and output to shapefile\"\"\"\n",
    "    \n",
    "    forest['COUNTY'] = forest['COUNTY'].str.strip()   # remove whitespace to match counties df\n",
    "    \n",
    "    df  = counties.merge(forest, on='COUNTY', how='left')    # merge gdf and df on matching COUNTY column\n",
    "    gdf_forestcover = gpd.GeoDataFrame(df)\n",
    "    \n",
    "    data_path = 'C:/Users/roseh/Desktop/785/forest_comp/data/forest_cover/output'\n",
    "    gdf_forestcover.to_file(os.path.join(data_path,f'forest_cover_{year}.shp'))   # read merged gdf to shapefile"
   ]
  },
  {
   "cell_type": "code",
   "execution_count": 37,
   "id": "98e0a464-e2d3-42d3-955e-b7fdb63e36d0",
   "metadata": {},
   "outputs": [],
   "source": [
    "# read in and format Maine counties shapefile\n",
    "\n",
    "maine_data_path = nb_path / 'data' / 'maine'\n",
    "file = os.path.join(maine_data_path, 'Maine_County_Boundary_Polygons_Dissolved_Feature.shp')\n",
    "counties = gpd.read_file(file)\n",
    "\n",
    "counties.drop(columns=['OBJECTID', 'GlobalID','created_us', \n",
    "                           'created_da', 'last_edite', 'last_edi_1'], inplace=True)      #drop unneeded columns from gdf\n",
    "    \n",
    "counties['COUNTY'] = counties['COUNTY'].str.strip()                                      #remove whitespace from strings in COUNTY column"
   ]
  },
  {
   "cell_type": "code",
   "execution_count": 38,
   "id": "04b6af08-ed54-49d1-b1df-27526c103b85",
   "metadata": {},
   "outputs": [],
   "source": [
    "# read in forest percentage dataframes\n",
    "data_path = nb_path / 'data' / 'forest_cover'\n",
    "forest_1995 = pd.read_csv(os.path.join(data_path,'1995_forest_cover_percentage.csv'))\n",
    "forest_2021 = pd.read_csv(os.path.join(data_path,'2021_forest_cover_percentage.csv'))"
   ]
  },
  {
   "cell_type": "code",
   "execution_count": 39,
   "id": "4a301fee-56e6-4fa4-b5e9-6e6dae0f19fc",
   "metadata": {},
   "outputs": [
    {
     "name": "stderr",
     "output_type": "stream",
     "text": [
      "C:\\Users\\roseh\\AppData\\Local\\Temp\\ipykernel_15896\\3357415792.py:10: UserWarning: Column names longer than 10 characters will be truncated when saved to ESRI Shapefile.\n",
      "  gdf_forestcover.to_file(os.path.join(data_path,f'forest_cover_{year}.shp'))   # read merged gdf to shapefile\n",
      "C:\\Users\\roseh\\AppData\\Local\\Temp\\ipykernel_15896\\3357415792.py:10: UserWarning: Column names longer than 10 characters will be truncated when saved to ESRI Shapefile.\n",
      "  gdf_forestcover.to_file(os.path.join(data_path,f'forest_cover_{year}.shp'))   # read merged gdf to shapefile\n"
     ]
    }
   ],
   "source": [
    "# apply merge function to each df\n",
    "merge_county_w_forestcover(counties,forest_1995,'1995')\n",
    "merge_county_w_forestcover(counties,forest_2021,'2021')"
   ]
  },
  {
   "cell_type": "code",
   "execution_count": 43,
   "id": "af743f60-4e87-452c-8b44-5c70cc829332",
   "metadata": {},
   "outputs": [
    {
     "name": "stderr",
     "output_type": "stream",
     "text": [
      "C:\\Users\\roseh\\AppData\\Local\\Temp\\ipykernel_15896\\861490431.py:10: UserWarning: Column names longer than 10 characters will be truncated when saved to ESRI Shapefile.\n",
      "  gdf_forestcover.to_file(os.path.join(data_path,f'forest_cover_{year}.shp'))   # read merged gdf to shapefile\n"
     ]
    }
   ],
   "source": [
    "merge_county_w_forestcover(counties,forest_2021,'2021_n')"
   ]
  },
  {
   "cell_type": "code",
   "execution_count": 45,
   "id": "1c3bbf2d-fa0e-4cb7-8caa-a2e9e194600d",
   "metadata": {},
   "outputs": [],
   "source": [
    "data_path = nb_path / 'data' / 'forest_cover' /'output'\n",
    "cover_2021_n = gpd.read_file(os.path.join(data_path,'forest_cover_2021_n.shp'))"
   ]
  },
  {
   "cell_type": "markdown",
   "id": "308d5f2b-57bb-4e2b-b78a-114af24098b4",
   "metadata": {
    "tags": []
   },
   "source": [
    "##### Join 1995 and 2021 forest cover dataframes and find difference"
   ]
  },
  {
   "cell_type": "code",
   "execution_count": 14,
   "id": "be53a4de-45aa-4dc0-a3a7-90fa6aa4f179",
   "metadata": {},
   "outputs": [],
   "source": [
    "data_path = nb_path / 'data' / 'forest_cover'"
   ]
  },
  {
   "cell_type": "code",
   "execution_count": 6,
   "id": "11a64763-6ede-48ff-8397-76362fac3b52",
   "metadata": {},
   "outputs": [],
   "source": [
    "fc_1995 = pd.read_csv(os.path.join(data_path,'1995_forest_cover_percentage.csv'))"
   ]
  },
  {
   "cell_type": "code",
   "execution_count": 7,
   "id": "063280e4-ef70-440f-80ba-fbf4e8799fa5",
   "metadata": {},
   "outputs": [],
   "source": [
    "fc_2021 = pd.read_csv(os.path.join(data_path,'2021_forest_cover_percentage.csv'))"
   ]
  },
  {
   "cell_type": "code",
   "execution_count": 8,
   "id": "d0523dda-0331-4eb7-9ac3-203b693ea5d9",
   "metadata": {},
   "outputs": [
    {
     "data": {
      "text/plain": [
       "Index(['County code and name', 'Total', 'Jack pine', 'Red pine',\n",
       "       'Eastern white pine', 'Balsam fir', 'White spruce', 'Black spruce',\n",
       "       'Tamarack', 'Northern white-cedar', 'Oak', 'Northern hardwoods',\n",
       "       'Lowland hardwoods', 'Cottonwood / Willow', 'Aspen', 'Birch',\n",
       "       'Non stocked', 'Other', 'COUNTY'],\n",
       "      dtype='object')"
      ]
     },
     "execution_count": 8,
     "metadata": {},
     "output_type": "execute_result"
    }
   ],
   "source": [
    "fc_1995.columns"
   ]
  },
  {
   "cell_type": "code",
   "execution_count": 9,
   "id": "d83d79fe-b7df-462b-8fe1-78113671b307",
   "metadata": {},
   "outputs": [
    {
     "data": {
      "text/plain": [
       "Index(['County code and name', 'Total', 'Red pine', 'Eastern white pine',\n",
       "       'Balsam fir', 'White spruce', 'Black spruce', 'Tamarack',\n",
       "       'Northern white-cedar', 'Oak', 'Northern hardwoods',\n",
       "       'Lowland hardwoods', 'Aspen', 'Birch', 'Balsam poplar', 'Non stocked',\n",
       "       'Other', 'COUNTY'],\n",
       "      dtype='object')"
      ]
     },
     "execution_count": 9,
     "metadata": {},
     "output_type": "execute_result"
    }
   ],
   "source": [
    "fc_2021.columns"
   ]
  },
  {
   "cell_type": "code",
   "execution_count": 10,
   "id": "2cc80948-e81a-431e-9fd9-2ad206c62802",
   "metadata": {},
   "outputs": [],
   "source": [
    "balsam_fir_diff = fc_2021['Balsam fir'] - fc_1995['Balsam fir']\n",
    "oak_diff = fc_2021['Oak'] - fc_1995['Oak']\n",
    "eastern_white_pine_diff = fc_2021['Eastern white pine'] - fc_1995['Eastern white pine']\n",
    "aspen_diff = fc_2021['Aspen'] - fc_1995['Aspen']\n",
    "county = fc_2021['COUNTY'].str.strip()"
   ]
  },
  {
   "cell_type": "code",
   "execution_count": 11,
   "id": "b4dfbe9a-baf5-4165-8840-0693898e7366",
   "metadata": {},
   "outputs": [],
   "source": [
    "change_df = pd.DataFrame({'COUNTY':county, 'balsam_fir': balsam_fir_diff, 'oak': oak_diff, \n",
    "                          'eastern_white_pine': eastern_white_pine_diff, 'aspen':aspen_diff})"
   ]
  },
  {
   "cell_type": "code",
   "execution_count": 35,
   "id": "443e25d6-9674-4b63-81e7-6df05a321aa4",
   "metadata": {},
   "outputs": [],
   "source": [
    "#change_df.to_csv(os.path.join(data_path,'change_df.csv'))"
   ]
  },
  {
   "cell_type": "code",
   "execution_count": 12,
   "id": "80473933-cd88-4947-8a1f-d3f1f741cf67",
   "metadata": {},
   "outputs": [
    {
     "data": {
      "text/plain": [
       "<AxesSubplot: >"
      ]
     },
     "execution_count": 12,
     "metadata": {},
     "output_type": "execute_result"
    },
    {
     "data": {
      "image/png": "[encoded data removed]",
      "text/plain": [
       "<Figure size 640x480 with 1 Axes>"
      ]
     },
     "metadata": {},
     "output_type": "display_data"
    }
   ],
   "source": [
    "change_df.plot(kind='bar')"
   ]
  },
  {
   "cell_type": "code",
   "execution_count": 15,
   "id": "a34f8e21-020c-4eb8-b120-351cdf5ab9e5",
   "metadata": {},
   "outputs": [],
   "source": [
    "df  = counties.merge(change_df, on='COUNTY', how='left')    # merge gdf and df on matching COUNTY column\n",
    "gdf_change_fc = gpd.GeoDataFrame(df)"
   ]
  },
  {
   "cell_type": "code",
   "execution_count": 34,
   "id": "b4408570-a318-4d34-9464-0fcbae41b399",
   "metadata": {},
   "outputs": [
    {
     "name": "stderr",
     "output_type": "stream",
     "text": [
      "C:\\Users\\roseh\\AppData\\Local\\Temp\\ipykernel_15896\\1232733663.py:1: UserWarning: Column names longer than 10 characters will be truncated when saved to ESRI Shapefile.\n",
      "  gdf_change_fc.to_file('change_fc.shp')\n"
     ]
    }
   ],
   "source": [
    "#gdf_change_fc.to_file(os.path.join(data_path, 'change_fc.shp')"
   ]
  },
  {
   "cell_type": "code",
   "execution_count": 32,
   "id": "fe5f2fe4-c800-4798-80f8-c293fb5f5264",
   "metadata": {},
   "outputs": [],
   "source": [
    "column = gdf_change_fc['balsam_fir']\n",
    "vmin, vmax = column.min(), column.max()"
   ]
  },
  {
   "cell_type": "code",
   "execution_count": 33,
   "id": "93897efd-fd29-4286-9641-0558b0fbb991",
   "metadata": {},
   "outputs": [
    {
     "data": {
      "image/png": "[encoded data removed]",
      "text/plain": [
       "<Figure size 600x400 with 2 Axes>"
      ]
     },
     "metadata": {},
     "output_type": "display_data"
    }
   ],
   "source": [
    "fig, ax = plt.subplots(1, figsize=(6,4))\n",
    "\n",
    "gdf_change_fc.plot(column='balsam_fir', cmap='RdYlGn',ax=ax)\n",
    "ax.axis('off')\n",
    "ax.set_title('Change in % Forest Cover')\n",
    "\n",
    "sm = plt.cm.ScalarMappable(cmap='RdYlGn', norm=plt.Normalize(vmin=vmin, vmax=vmax))   # create colorbar using normalized values\n",
    "sm._A = []\n",
    "cbar = fig.colorbar(sm, ax=plt.gca())"
   ]
  },
  {
   "cell_type": "code",
   "execution_count": null,
   "id": "e9d928de-1dd3-4c4d-b959-8a3684d69711",
   "metadata": {},
   "outputs": [],
   "source": []
  }
 ],
 "metadata": {
  "kernelspec": {
   "display_name": "Python 3 (ipykernel)",
   "language": "python",
   "name": "python3"
  },
  "language_info": {
   "codemirror_mode": {
    "name": "ipython",
    "version": 3
   },
   "file_extension": ".py",
   "mimetype": "text/x-python",
   "name": "python",
   "nbconvert_exporter": "python",
   "pygments_lexer": "ipython3",
   "version": "3.9.13"
  }
 },
 "nbformat": 4,
 "nbformat_minor": 5
}
